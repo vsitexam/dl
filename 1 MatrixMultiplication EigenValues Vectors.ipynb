{
 "cells": [
  {
   "cell_type": "code",
   "execution_count": null,
   "id": "a43eb34a",
   "metadata": {},
   "outputs": [],
   "source": [
    "#!pip install keras\n",
    "#!pip install tensorflow"
   ]
  },
  {
   "cell_type": "code",
   "execution_count": null,
   "id": "639759f5",
   "metadata": {},
   "outputs": [],
   "source": [
    "import keras\n",
    "import tensorflow as tf"
   ]
  },
  {
   "cell_type": "code",
   "execution_count": null,
   "id": "6789c675",
   "metadata": {},
   "outputs": [],
   "source": [
    "x = tf.constant([1,2,3,4,5,6],shape = [3,2])\n",
    "print(x)"
   ]
  },
  {
   "cell_type": "code",
   "execution_count": null,
   "id": "b9a2ee8a",
   "metadata": {},
   "outputs": [],
   "source": [
    "y = tf.constant([7,8,9,1,2,3],shape = [2,3])\n",
    "print(y)"
   ]
  },
  {
   "cell_type": "code",
   "execution_count": null,
   "id": "b66335f4",
   "metadata": {},
   "outputs": [],
   "source": [
    "ans = tf.matmul(x,y)\n",
    "print(ans)"
   ]
  },
  {
   "cell_type": "code",
   "execution_count": null,
   "id": "f3da9981",
   "metadata": {},
   "outputs": [],
   "source": [
    "matrix = tf.random.uniform([3,3], minval = 3, maxval = 10, dtype = tf.float32)\n",
    "print(matrix)"
   ]
  },
  {
   "cell_type": "code",
   "execution_count": null,
   "id": "24553881",
   "metadata": {},
   "outputs": [],
   "source": [
    "eVal,eVec = tf.linalg.eigh(matrix)"
   ]
  },
  {
   "cell_type": "code",
   "execution_count": null,
   "id": "b06dc4e7",
   "metadata": {},
   "outputs": [],
   "source": [
    "print(\"Eigen Value : \",eVal)\n",
    "print(\"\\nEigen Vector : \",eVec)"
   ]
  },
  {
   "cell_type": "code",
   "execution_count": null,
   "id": "102a491e",
   "metadata": {},
   "outputs": [],
   "source": []
  }
 ],
 "metadata": {
  "kernelspec": {
   "display_name": "Python 3 (ipykernel)",
   "language": "python",
   "name": "python3"
  },
  "language_info": {
   "codemirror_mode": {
    "name": "ipython",
    "version": 3
   },
   "file_extension": ".py",
   "mimetype": "text/x-python",
   "name": "python",
   "nbconvert_exporter": "python",
   "pygments_lexer": "ipython3",
   "version": "3.10.7"
  }
 },
 "nbformat": 4,
 "nbformat_minor": 5
}
