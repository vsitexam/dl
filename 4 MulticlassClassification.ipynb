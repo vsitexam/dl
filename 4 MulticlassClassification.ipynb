{
 "cells": [
  {
   "cell_type": "code",
   "execution_count": null,
   "id": "6a9d2b46",
   "metadata": {},
   "outputs": [],
   "source": [
    "from keras.models import Sequential\n",
    "from keras.layers import Dense\n",
    "import pandas as pd\n",
    "import numpy as np"
   ]
  },
  {
   "cell_type": "code",
   "execution_count": null,
   "id": "b280b833",
   "metadata": {},
   "outputs": [],
   "source": [
    "df = pd.read_csv(\"D:\\\\VSIT SEM 4 Practicals\\\\DL\\\\flower.csv\")"
   ]
  },
  {
   "cell_type": "code",
   "execution_count": null,
   "id": "b6d95fd7",
   "metadata": {
    "scrolled": true
   },
   "outputs": [],
   "source": [
    "df.head()"
   ]
  },
  {
   "cell_type": "code",
   "execution_count": null,
   "id": "80745749",
   "metadata": {},
   "outputs": [],
   "source": [
    "x=df.iloc[:,:-1].astype(float)\n",
    "y=df.iloc[:,-1]"
   ]
  },
  {
   "cell_type": "code",
   "execution_count": null,
   "id": "c7a983f2",
   "metadata": {},
   "outputs": [],
   "source": [
    "x.shape\n",
    "y.shape"
   ]
  },
  {
   "cell_type": "code",
   "execution_count": null,
   "id": "ddac01ec",
   "metadata": {},
   "outputs": [],
   "source": [
    "#labelencode y \n",
    "from sklearn.preprocessing import LabelEncoder\n",
    "lb=LabelEncoder()\n",
    "y=lb.fit_transform(y)\n",
    "y"
   ]
  },
  {
   "cell_type": "code",
   "execution_count": null,
   "id": "2a95213c",
   "metadata": {},
   "outputs": [],
   "source": [
    "import numpy as np\n",
    "from tensorflow.keras.utils import to_categorical\n",
    "#from keras.utils import np_utils\n",
    "encoded_Y = to_categorical(y)\n",
    "encoded_Y"
   ]
  },
  {
   "cell_type": "code",
   "execution_count": null,
   "id": "37b3ae06",
   "metadata": {},
   "outputs": [],
   "source": [
    "#creating a model \n",
    "model = Sequential()\n",
    "\n",
    "model.add(Dense(units = 10,activation = 'relu',input_dim = 4))\n",
    "model.add(Dense(units = 8, activation = 'relu'))\n",
    "model.add(Dense(units = 3,activation = 'softmax'))\n",
    "\n",
    "model.compile(loss = 'categorical_crossentropy', optimizer = 'adam', metrics = 'accuracy')"
   ]
  },
  {
   "cell_type": "code",
   "execution_count": null,
   "id": "9a6a2bc0",
   "metadata": {},
   "outputs": [],
   "source": [
    "model.fit(x,encoded_Y,epochs = 400,batch_size = 10)"
   ]
  },
  {
   "cell_type": "code",
   "execution_count": null,
   "id": "a1971ad1",
   "metadata": {},
   "outputs": [],
   "source": [
    "predict = model.predict(x)\n",
    "print(predict)"
   ]
  },
  {
   "cell_type": "code",
   "execution_count": null,
   "id": "6c704309",
   "metadata": {},
   "outputs": [],
   "source": [
    "for i in range(35,150,3):\n",
    "    print(predict[i],encoded_Y[i])"
   ]
  },
  {
   "cell_type": "code",
   "execution_count": null,
   "id": "62bd1436",
   "metadata": {},
   "outputs": [],
   "source": [
    "actual = []\n",
    "\n",
    "for i in range(0,150):\n",
    "    actual.append(np.argmax(predict[i]))\n",
    "    \n",
    "print(actual)"
   ]
  },
  {
   "cell_type": "code",
   "execution_count": null,
   "id": "f5405d5d",
   "metadata": {},
   "outputs": [],
   "source": [
    "newdf = pd.DataFrame(list(zip(actual,y)),columns = ['Actual','Predicted'])\n",
    "newdf"
   ]
  },
  {
   "cell_type": "code",
   "execution_count": null,
   "id": "3bfb89f9",
   "metadata": {},
   "outputs": [],
   "source": []
  }
 ],
 "metadata": {
  "kernelspec": {
   "display_name": "Python 3 (ipykernel)",
   "language": "python",
   "name": "python3"
  },
  "language_info": {
   "codemirror_mode": {
    "name": "ipython",
    "version": 3
   },
   "file_extension": ".py",
   "mimetype": "text/x-python",
   "name": "python",
   "nbconvert_exporter": "python",
   "pygments_lexer": "ipython3",
   "version": "3.10.7"
  }
 },
 "nbformat": 4,
 "nbformat_minor": 5
}
