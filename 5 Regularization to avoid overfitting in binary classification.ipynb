{
 "cells": [
  {
   "cell_type": "code",
   "execution_count": null,
   "id": "33c02506",
   "metadata": {},
   "outputs": [],
   "source": [
    "from sklearn.datasets import make_moons\n",
    "from keras.models import Sequential\n",
    "from keras.layers import Dense"
   ]
  },
  {
   "cell_type": "code",
   "execution_count": null,
   "id": "83eb44d0",
   "metadata": {},
   "outputs": [],
   "source": [
    "# initialize x and y sets\n",
    "x,y = make_moons(n_samples = 100, noise = 0.2, random_state = 1)\n",
    "x.shape\n",
    "y.shape"
   ]
  },
  {
   "cell_type": "code",
   "execution_count": null,
   "id": "9d7360e3",
   "metadata": {},
   "outputs": [],
   "source": [
    "xtrain, xtest = x[:30,:],x[30:,:]\n",
    "ytrain, ytest =y[:30],y[30:]"
   ]
  },
  {
   "cell_type": "code",
   "execution_count": null,
   "id": "a105337a",
   "metadata": {},
   "outputs": [],
   "source": [
    "# create model and add layers and config\n",
    "\n",
    "model = Sequential()\n",
    "\n",
    "model.add(Dense(units = 500, activation = 'relu',input_dim = 2))\n",
    "model.add(Dense(units = 1, activation = 'sigmoid'))\n",
    "\n",
    "model.compile(loss = 'binary_crossentropy', optimizer = 'adam', metrics='accuracy' )"
   ]
  },
  {
   "cell_type": "code",
   "execution_count": null,
   "id": "019a698e",
   "metadata": {},
   "outputs": [],
   "source": [
    "#train the model\n",
    "history = model.fit(xtrain,ytrain, validation_data = (xtest,ytest), epochs = 4000)"
   ]
  },
  {
   "cell_type": "code",
   "execution_count": null,
   "id": "3ab63ab6",
   "metadata": {},
   "outputs": [],
   "source": [
    "from matplotlib import pyplot"
   ]
  },
  {
   "cell_type": "code",
   "execution_count": null,
   "id": "4dd1a011",
   "metadata": {
    "scrolled": true
   },
   "outputs": [],
   "source": [
    "pyplot.plot(history.history['accuracy'])\n",
    "pyplot.plot(history.history['val_accuracy'])"
   ]
  },
  {
   "cell_type": "code",
   "execution_count": null,
   "id": "49f74aec",
   "metadata": {},
   "outputs": [],
   "source": [
    "# For L1 regularizer\n",
    "from keras.regularizers import l1"
   ]
  },
  {
   "cell_type": "code",
   "execution_count": null,
   "id": "b6dfddbf",
   "metadata": {},
   "outputs": [],
   "source": [
    "model_l1 = Sequential()\n",
    "\n",
    "model_l1.add(Dense(units = 500, activation = 'relu', kernel_regularizer = l1(0.002)))\n",
    "model_l1.add(Dense(units = 1, activation = 'sigmoid'))\n",
    "\n",
    "model_l1.compile(loss = 'binary_crossentropy', optimizer = 'adam', metrics = 'accuracy')"
   ]
  },
  {
   "cell_type": "code",
   "execution_count": null,
   "id": "cd59efb6",
   "metadata": {},
   "outputs": [],
   "source": [
    "history_l1 = model_l1.fit(xtrain,ytrain, validation_data = (xtest,ytest), epochs = 4000)"
   ]
  },
  {
   "cell_type": "code",
   "execution_count": null,
   "id": "76e75b6a",
   "metadata": {},
   "outputs": [],
   "source": [
    "from matplotlib import pyplot"
   ]
  },
  {
   "cell_type": "code",
   "execution_count": null,
   "id": "3463715d",
   "metadata": {},
   "outputs": [],
   "source": [
    "pyplot.plot(history_l1.history['accuracy'])\n",
    "pyplot.plot(history_l1.history['val_accuracy'])"
   ]
  },
  {
   "cell_type": "code",
   "execution_count": null,
   "id": "5d805d26",
   "metadata": {},
   "outputs": [],
   "source": [
    "from keras.regularizers import l2"
   ]
  },
  {
   "cell_type": "code",
   "execution_count": null,
   "id": "36dd41fd",
   "metadata": {},
   "outputs": [],
   "source": [
    "# Create model for l2\n",
    "model_l2 = Sequential()\n",
    "model_l2.add(Dense(units = 500, activation = 'relu', kernel_regularizer = l2(0.002)))\n",
    "model_l2.add(Dense(units = 1, activation = 'sigmoid'))\n",
    "\n",
    "model_l2.compile(loss='binary_crossentropy', optimizer = 'adam',metrics = 'accuracy')"
   ]
  },
  {
   "cell_type": "code",
   "execution_count": null,
   "id": "4323787d",
   "metadata": {},
   "outputs": [],
   "source": [
    "history_l2 = model_l2.fit(xtrain, ytrain, validation_data =(xtest,ytest),epochs = 4000)"
   ]
  },
  {
   "cell_type": "code",
   "execution_count": null,
   "id": "99ebe166",
   "metadata": {},
   "outputs": [],
   "source": []
  }
 ],
 "metadata": {
  "kernelspec": {
   "display_name": "Python 3 (ipykernel)",
   "language": "python",
   "name": "python3"
  },
  "language_info": {
   "codemirror_mode": {
    "name": "ipython",
    "version": 3
   },
   "file_extension": ".py",
   "mimetype": "text/x-python",
   "name": "python",
   "nbconvert_exporter": "python",
   "pygments_lexer": "ipython3",
   "version": "3.10.7"
  }
 },
 "nbformat": 4,
 "nbformat_minor": 5
}
