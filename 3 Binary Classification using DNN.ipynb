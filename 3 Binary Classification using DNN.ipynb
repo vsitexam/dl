{
 "cells": [
  {
   "cell_type": "code",
   "execution_count": null,
   "id": "2bd37893",
   "metadata": {},
   "outputs": [],
   "source": [
    "from keras.models import Sequential\n",
    "from keras.layers import Dense\n",
    "import pandas as pd"
   ]
  },
  {
   "cell_type": "code",
   "execution_count": null,
   "id": "faf9389a",
   "metadata": {},
   "outputs": [],
   "source": [
    "names = [\"No. of pregnancies\",\"Glucose level\",\"Blood Pressure\",\"skin thickness\",\"Insulin\",\"BMI\",\"Diabetes pedigree\",\"Age\",\"Class\"]"
   ]
  },
  {
   "cell_type": "code",
   "execution_count": null,
   "id": "bea7538d",
   "metadata": {},
   "outputs": [],
   "source": [
    "df = pd.read_csv (\"D:\\VSIT SEM 4 Practicals\\DL\\diabetes.csv\")\n",
    "df.head()"
   ]
  },
  {
   "cell_type": "code",
   "execution_count": null,
   "id": "97726036",
   "metadata": {},
   "outputs": [],
   "source": [
    "#create model\n",
    "binaryc = Sequential()"
   ]
  },
  {
   "cell_type": "code",
   "execution_count": null,
   "id": "145974ba",
   "metadata": {},
   "outputs": [],
   "source": [
    "#create layers in the model or NN\n",
    "binaryc.add(Dense(units=10,activation='relu',input_dim=8))\n",
    "binaryc.add(Dense(units=8,activation='relu'))\n",
    "binaryc.add(Dense(units=1,activation='sigmoid'))"
   ]
  },
  {
   "cell_type": "code",
   "execution_count": null,
   "id": "1d44df58",
   "metadata": {},
   "outputs": [],
   "source": [
    "binaryc.compile(loss='binary_crossentropy',optimizer='adam',metrics=\"accuracy\")"
   ]
  },
  {
   "cell_type": "code",
   "execution_count": null,
   "id": "1c3f95a7",
   "metadata": {},
   "outputs": [],
   "source": [
    "x = df.iloc[:,:-1]\n",
    "y = df.iloc[:,-1]"
   ]
  },
  {
   "cell_type": "code",
   "execution_count": null,
   "id": "2bb9bdff",
   "metadata": {},
   "outputs": [],
   "source": [
    "from sklearn.model_selection import train_test_split"
   ]
  },
  {
   "cell_type": "code",
   "execution_count": null,
   "id": "12f2d132",
   "metadata": {},
   "outputs": [],
   "source": [
    "xtrain,xtest,ytrain,ytest = train_test_split(x,y,test_size = 0.25,random_state = 1)"
   ]
  },
  {
   "cell_type": "code",
   "execution_count": null,
   "id": "f94a599e",
   "metadata": {},
   "outputs": [],
   "source": [
    "xtrain.shape\n"
   ]
  },
  {
   "cell_type": "code",
   "execution_count": null,
   "id": "ae353a96",
   "metadata": {},
   "outputs": [],
   "source": [
    "ytrain.shape"
   ]
  },
  {
   "cell_type": "code",
   "execution_count": null,
   "id": "90c4e9c1",
   "metadata": {},
   "outputs": [],
   "source": [
    "binaryc.fit(xtrain, ytrain, epochs = 200, batch_size = 20)"
   ]
  },
  {
   "cell_type": "code",
   "execution_count": null,
   "id": "4ee035b4",
   "metadata": {},
   "outputs": [],
   "source": [
    "predict = binaryc.predict(xtest)\n",
    "predict.shape"
   ]
  },
  {
   "cell_type": "code",
   "execution_count": null,
   "id": "f3140d20",
   "metadata": {},
   "outputs": [],
   "source": [
    "#binary classification\n",
    "class_label = []\n",
    "\n",
    "for i in predict:\n",
    "    if (i >= 0.5):\n",
    "        class_label.append(1)\n",
    "    else:\n",
    "        class_label.append(0)\n",
    "        "
   ]
  },
  {
   "cell_type": "code",
   "execution_count": null,
   "id": "a2830e9c",
   "metadata": {},
   "outputs": [],
   "source": [
    "#print accuracy score\n",
    "from sklearn.metrics import accuracy_score\n",
    "\n",
    "print(\"Accuracy : \", accuracy_score(ytest,class_label))"
   ]
  },
  {
   "cell_type": "code",
   "execution_count": null,
   "id": "166e248d",
   "metadata": {},
   "outputs": [],
   "source": []
  }
 ],
 "metadata": {
  "kernelspec": {
   "display_name": "Python 3 (ipykernel)",
   "language": "python",
   "name": "python3"
  },
  "language_info": {
   "codemirror_mode": {
    "name": "ipython",
    "version": 3
   },
   "file_extension": ".py",
   "mimetype": "text/x-python",
   "name": "python",
   "nbconvert_exporter": "python",
   "pygments_lexer": "ipython3",
   "version": "3.10.7"
  }
 },
 "nbformat": 4,
 "nbformat_minor": 5
}
