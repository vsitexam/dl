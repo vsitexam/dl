{
 "cells": [
  {
   "cell_type": "code",
   "execution_count": null,
   "id": "494951c1",
   "metadata": {},
   "outputs": [],
   "source": [
    "from keras.datasets import mnist\n",
    "from tensorflow.keras.utils import to_categorical\n",
    "from keras.models import Sequential\n",
    "from keras.layers import Dense,Conv2D,Flatten"
   ]
  },
  {
   "cell_type": "code",
   "execution_count": null,
   "id": "a71a677d",
   "metadata": {},
   "outputs": [],
   "source": [
    "import matplotlib.pyplot as plt"
   ]
  },
  {
   "cell_type": "code",
   "execution_count": null,
   "id": "752dbd55",
   "metadata": {},
   "outputs": [],
   "source": [
    "(xtrain,ytrain),(xtest,ytest) = mnist.load_data()\n",
    "\n",
    "xtrain.shape\n",
    "xtest.shape"
   ]
  },
  {
   "cell_type": "code",
   "execution_count": null,
   "id": "6ce2f5b8",
   "metadata": {},
   "outputs": [],
   "source": [
    "print(xtrain.shape,xtest.shape)"
   ]
  },
  {
   "cell_type": "code",
   "execution_count": null,
   "id": "8d6748e4",
   "metadata": {},
   "outputs": [],
   "source": [
    "xtrain = xtrain.reshape(60000,28,28,1)\n",
    "xtest = xtest.reshape(10000,28,28,1)"
   ]
  },
  {
   "cell_type": "code",
   "execution_count": null,
   "id": "9aff1597",
   "metadata": {},
   "outputs": [],
   "source": [
    "ytrain = to_categorical(ytrain)\n",
    "ytest = to_categorical(ytest)"
   ]
  },
  {
   "cell_type": "code",
   "execution_count": null,
   "id": "cd17f8cf",
   "metadata": {},
   "outputs": [],
   "source": [
    "cnnmodel = Sequential()\n",
    "cnnmodel.add(Conv2D(64,kernel_size = 3, activation = 'relu', input_shape = (28,28,1)))\n",
    "cnnmodel.add(Conv2D(32,kernel_size = 3, activation = 'relu'))\n",
    "cnnmodel.add(Flatten())\n",
    "cnnmodel.add(Dense(10, activation = 'softmax'))\n",
    "\n",
    "cnnmodel.compile(loss='categorical_crossentropy', optimizer = 'adam', metrics='accuracy')"
   ]
  },
  {
   "cell_type": "code",
   "execution_count": null,
   "id": "c853b04b",
   "metadata": {
    "scrolled": true
   },
   "outputs": [],
   "source": [
    "cnnmodel.fit(xtrain, ytrain, validation_data = (xtest,ytest),epochs = 3)"
   ]
  },
  {
   "cell_type": "code",
   "execution_count": null,
   "id": "3dc68de9",
   "metadata": {
    "scrolled": true
   },
   "outputs": [],
   "source": [
    "print(cnnmodel.predict(xtrain[:10]))"
   ]
  },
  {
   "cell_type": "code",
   "execution_count": null,
   "id": "53771d84",
   "metadata": {},
   "outputs": [],
   "source": [
    "#check output from here\n",
    "plt.imshow(xtrain[0])"
   ]
  },
  {
   "cell_type": "code",
   "execution_count": null,
   "id": "29218c19",
   "metadata": {},
   "outputs": [],
   "source": []
  }
 ],
 "metadata": {
  "kernelspec": {
   "display_name": "Python 3 (ipykernel)",
   "language": "python",
   "name": "python3"
  },
  "language_info": {
   "codemirror_mode": {
    "name": "ipython",
    "version": 3
   },
   "file_extension": ".py",
   "mimetype": "text/x-python",
   "name": "python",
   "nbconvert_exporter": "python",
   "pygments_lexer": "ipython3",
   "version": "3.10.7"
  }
 },
 "nbformat": 4,
 "nbformat_minor": 5
}
